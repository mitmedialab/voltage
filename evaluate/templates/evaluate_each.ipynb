{
 "cells": [
  {
   "cell_type": "code",
   "execution_count": null,
   "metadata": {},
   "outputs": [],
   "source": [
    "from evaluate import evaluate_each, plot_F1_and_IoU, plot_masks, plot_voltage_traces\n",
    "from pathlib import Path\n",
    "from IPython.display import Markdown"
   ]
  },
  {
   "cell_type": "code",
   "execution_count": null,
   "metadata": {},
   "outputs": [],
   "source": [
    "DATA_NAME = '@@@DATA_NAME'\n",
    "IN_FILE = '@@@IN_FILE'\n",
    "GT_FILE = '@@@GT_FILE'\n",
    "IMG_FILE = '@@@IMG_FILE'\n",
    "SPIKE_FILE = '@@@SPIKE_FILE'\n",
    "OUT_DIR = '@@@OUT_DIR'\n",
    "REP_IOU = @@@REPRESENTATIVE_IOU\n",
    "Markdown('# Evaluation Result for file: ' + DATA_NAME)"
   ]
  },
  {
   "cell_type": "code",
   "execution_count": null,
   "metadata": {},
   "outputs": [],
   "source": [
    "eval_data = evaluate_each(IN_FILE, GT_FILE, IMG_FILE, OUT_DIR, DATA_NAME)"
   ]
  },
  {
   "cell_type": "code",
   "execution_count": null,
   "metadata": {},
   "outputs": [],
   "source": [
    "plot_F1_and_IoU(eval_data['f1'], eval_data['precision'], eval_data['recall'],\n",
    "                eval_data['thresholds'], eval_data['IoU'], REP_IOU,\n",
    "                Path(OUT_DIR, DATA_NAME + '_F1_and_IoU'))"
   ]
  },
  {
   "cell_type": "code",
   "execution_count": null,
   "metadata": {},
   "outputs": [],
   "source": [
    "plot_masks(eval_data['thumbnail'], eval_data['eval_masks'], eval_data['gt_masks'],\n",
    "           Path(OUT_DIR, DATA_NAME + '_masks_eval'))"
   ]
  },
  {
   "cell_type": "code",
   "execution_count": null,
   "metadata": {},
   "outputs": [],
   "source": [
    "plot_voltage_traces(eval_data['thumbnail'], eval_data['eval_masks'], SPIKE_FILE,\n",
    "                    Path(OUT_DIR, DATA_NAME + '_spikes'))"
   ]
  }
 ],
 "metadata": {
  "kernelspec": {
   "display_name": "Python 3",
   "language": "python",
   "name": "python3"
  },
  "language_info": {
   "codemirror_mode": {
    "name": "ipython",
    "version": 3
   },
   "file_extension": ".py",
   "mimetype": "text/x-python",
   "name": "python",
   "nbconvert_exporter": "python",
   "pygments_lexer": "ipython3",
   "version": "3.8.11"
  }
 },
 "nbformat": 4,
 "nbformat_minor": 4
}
