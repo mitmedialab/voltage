{
 "cells": [
  {
   "cell_type": "code",
   "execution_count": null,
   "metadata": {},
   "outputs": [],
   "source": [
    "from evaluate import evaluate_all, plot_F1, plot_per_dataset_scores\n",
    "from pathlib import Path\n",
    "from IPython.display import Markdown, Image, display"
   ]
  },
  {
   "cell_type": "code",
   "execution_count": null,
   "metadata": {},
   "outputs": [],
   "source": [
    "OUT_DIR = '@@@OUT_DIR'\n",
    "Markdown('# Evaluation Result from: ' + OUT_DIR)"
   ]
  },
  {
   "cell_type": "code",
   "execution_count": null,
   "metadata": {},
   "outputs": [],
   "source": [
    "eval_data = evaluate_all(OUT_DIR)\n",
    "Markdown('# F1 = %.2f' % eval_data['representative f1'])"
   ]
  },
  {
   "cell_type": "code",
   "execution_count": null,
   "metadata": {},
   "outputs": [],
   "source": [
    "plot_F1(eval_data['f1_all'], eval_data['precision_all'], eval_data['recall_all'], eval_data['thresholds'])"
   ]
  },
  {
   "cell_type": "code",
   "execution_count": null,
   "metadata": {},
   "outputs": [],
   "source": [
    "plot_per_dataset_scores(eval_data['dataset'], eval_data['f1_each'], 'F1', 'C2')"
   ]
  },
  {
   "cell_type": "code",
   "execution_count": null,
   "metadata": {},
   "outputs": [],
   "source": [
    "plot_per_dataset_scores(eval_data['dataset'], eval_data['precision_each'], 'Precision', 'C0')"
   ]
  },
  {
   "cell_type": "code",
   "execution_count": null,
   "metadata": {},
   "outputs": [],
   "source": [
    "plot_per_dataset_scores(eval_data['dataset'], eval_data['recall_each'], 'Recall', 'C1')"
   ]
  },
  {
   "cell_type": "code",
   "execution_count": null,
   "metadata": {},
   "outputs": [],
   "source": [
    "display(Markdown('# Speed Statistics'))\n",
    "eval_data['times']"
   ]
  },
  {
   "cell_type": "code",
   "execution_count": null,
   "metadata": {},
   "outputs": [],
   "source": [
    "display(Markdown('# Individual Results'))\n",
    "for name, f1 in zip(eval_data['dataset'], eval_data['f1_each']):\n",
    "    display(Markdown('***'))\n",
    "    display(Markdown('## Dataset ' + name + ': F1 = %.2f' % f1))\n",
    "    p = Path(OUT_DIR, name)\n",
    "    display(Image(filename=p.joinpath(name + '_F1_and_IoU.png')))\n",
    "    display(Image(filename=p.joinpath(name + '_masks_eval.png')))"
   ]
  }
 ],
 "metadata": {
  "kernelspec": {
   "display_name": "Python 3",
   "language": "python",
   "name": "python3"
  },
  "language_info": {
   "codemirror_mode": {
    "name": "ipython",
    "version": 3
   },
   "file_extension": ".py",
   "mimetype": "text/x-python",
   "name": "python",
   "nbconvert_exporter": "python",
   "pygments_lexer": "ipython3",
   "version": "3.8.11"
  }
 },
 "nbformat": 4,
 "nbformat_minor": 4
}
