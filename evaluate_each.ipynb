{
 "cells": [
  {
   "cell_type": "code",
   "execution_count": null,
   "metadata": {},
   "outputs": [],
   "source": [
    "import numpy as np\n",
    "import pandas as pd\n",
    "import matplotlib.pyplot as plt\n",
    "import json\n",
    "import tifffile as tiff\n",
    "from scipy.ndimage import center_of_mass\n",
    "from evaluate import load_roi, roi2masks_from_demix_result, count_matches, calc_f1_scores"
   ]
  },
  {
   "cell_type": "code",
   "execution_count": null,
   "metadata": {},
   "outputs": [],
   "source": [
    "with open('settings.txt') as f:\n",
    "    settings = json.load(f)\n",
    "\n",
    "SUMMARY_IMAGE_DIR = settings['summary_image_dir']\n",
    "CONSENSUS_GT_DIR = settings['consensus_gt_dir']\n",
    "INDIVIDUAL_GT_DIR = settings['individual_gt_dir']\n",
    "GT_IDS = settings['individual_gt_ids']\n",
    "REPRESENTATIVE_IOU = settings['representative_iou']\n",
    "\n",
    "DEMIX_DIR = '@@@DEMIX_DIR'\n",
    "EVAL_DIR = '@@@EVAL_DIR'\n",
    "BASENAME = '@@@BASENAME'"
   ]
  },
  {
   "cell_type": "code",
   "execution_count": null,
   "metadata": {},
   "outputs": [],
   "source": [
    "def create_contour_overlay(contour_image, color):\n",
    "    overlay = np.zeros(contour_image.shape + (4,), dtype='uint8')\n",
    "    overlay[:, :, 0] = color[0]\n",
    "    overlay[:, :, 1] = color[1]\n",
    "    overlay[:, :, 2] = color[2]\n",
    "    overlay[:, :, 3] = contour_image * 255\n",
    "    return overlay"
   ]
  },
  {
   "cell_type": "code",
   "execution_count": null,
   "metadata": {},
   "outputs": [],
   "source": [
    "summary_image = tiff.imread(SUMMARY_IMAGE_DIR + '/' + BASENAME + '.tif')\n",
    "plt.imshow(summary_image, interpolation='bilinear', cmap='gray')\n",
    "plt.axis('off')\n",
    "plt.title('Summary image')\n",
    "plt.show()"
   ]
  },
  {
   "cell_type": "code",
   "execution_count": null,
   "metadata": {},
   "outputs": [],
   "source": [
    "with open(DEMIX_DIR + '/' + BASENAME + '.json') as f:\n",
    "    demix_result = json.load(f)\n",
    "\n",
    "eval_mask_images, eval_contour_image = roi2masks_from_demix_result(demix_result, summary_image.shape)\n",
    "tiff.imsave(EVAL_DIR + '/' + BASENAME + '.tif', eval_mask_images, photometric='minisblack')\n",
    "num_eval_masks = len(eval_mask_images)\n",
    "\n",
    "plt.axis('off')\n",
    "plt.imshow(summary_image, interpolation='bilinear', cmap='gray')\n",
    "plt.imshow(create_contour_overlay(eval_contour_image, [255, 255, 0]), interpolation='bilinear')\n",
    "plt.title('Predicted masks')\n",
    "plt.show()"
   ]
  },
  {
   "cell_type": "code",
   "execution_count": null,
   "metadata": {
    "scrolled": false
   },
   "outputs": [],
   "source": [
    "gt_mask_images, gt_contour_image = load_roi(CONSENSUS_GT_DIR, BASENAME, summary_image.shape)\n",
    "num_gt_masks = len(gt_mask_images)\n",
    "\n",
    "plt.axis('off')\n",
    "plt.imshow(summary_image, interpolation='bilinear', cmap='gray')\n",
    "plt.imshow(create_contour_overlay(gt_contour_image, [0, 255, 255]), interpolation='bilinear')\n",
    "plt.title('GT masks')\n",
    "plt.show()"
   ]
  },
  {
   "cell_type": "code",
   "execution_count": null,
   "metadata": {},
   "outputs": [],
   "source": [
    "thresholds = np.array(range(0, 100, 1)) / 100\n",
    "counts, IoU = count_matches(eval_mask_images, gt_mask_images, thresholds)\n",
    "f1, precision, recall = calc_f1_scores(counts)"
   ]
  },
  {
   "cell_type": "code",
   "execution_count": null,
   "metadata": {},
   "outputs": [],
   "source": [
    "plt.figure(figsize=(17, 5))\n",
    "plt.suptitle('Accuracy statistics', fontsize=16)\n",
    "\n",
    "plt.subplot(1, 3, 1)\n",
    "plt.axis('off')\n",
    "plt.imshow(summary_image, interpolation='bilinear', cmap='gray')\n",
    "plt.imshow(create_contour_overlay(gt_contour_image, [0, 255, 255]), interpolation='bilinear')\n",
    "plt.imshow(create_contour_overlay(eval_contour_image, [255, 255, 0]), interpolation='bilinear')\n",
    "for i in range(num_eval_masks):\n",
    "    p = center_of_mass(eval_mask_images[i])\n",
    "    plt.text(p[1], p[0], str(i), color='yellow')\n",
    "for i in range(num_gt_masks):\n",
    "    p = center_of_mass(gt_mask_images[i])\n",
    "    plt.text(p[1], p[0], str(i), color='cyan')\n",
    "plt.title('Predicted (yellow) vs GT (cyan)')\n",
    "\n",
    "ax = plt.subplot(1, 3, 2)\n",
    "ax.set_xticks([x - 0.5 for x in range(num_gt_masks)], minor=True)\n",
    "ax.set_yticks([y - 0.5 for y in range(num_eval_masks)], minor=True)\n",
    "ax.tick_params(axis='both', which='both', length=0)\n",
    "plt.grid(which='minor')\n",
    "plt.xticks(list(range(num_gt_masks)))\n",
    "plt.yticks(list(range(num_eval_masks)))\n",
    "plt.imshow(IoU, aspect='equal', vmin=0, vmax=1, cmap='inferno')\n",
    "plt.colorbar()\n",
    "plt.xlabel('Ground Truth')\n",
    "plt.ylabel('Prediction')\n",
    "plt.title('IoU Matrix')\n",
    "\n",
    "plt.subplot(1, 3, 3)\n",
    "plt.axis('square')\n",
    "plt.xlim(0, 1)\n",
    "plt.ylim(0, 1)\n",
    "plt.plot(thresholds, precision, label='Precision')\n",
    "plt.plot(thresholds, recall, label='Recall')\n",
    "plt.plot(thresholds, f1, label='F1 score')\n",
    "plt.legend(loc='upper right')\n",
    "plt.ylabel('Score')\n",
    "plt.xlabel('IoU Threshold')\n",
    "plt.vlines(REPRESENTATIVE_IOU, 0, 1, colors='gray', linestyles='dashed') \n",
    "indices = np.where(thresholds >= REPRESENTATIVE_IOU)\n",
    "plt.title('F1 = %.2f at IoU = %.1f' % (f1[indices[0][0]], REPRESENTATIVE_IOU))\n",
    "\n",
    "plt.show()"
   ]
  },
  {
   "cell_type": "code",
   "execution_count": null,
   "metadata": {},
   "outputs": [],
   "source": [
    "index = ['Prediction_%2.2d' % i for i in range(num_eval_masks)]\n",
    "columns = ['GT_%2.2d' % i for i in range(num_gt_masks)]\n",
    "df = pd.DataFrame(IoU, index=index, columns=columns)\n",
    "df.to_csv(EVAL_DIR + '/' + BASENAME + '_IoU.csv')\n",
    "\n",
    "with pd.option_context('display.max_rows', None, 'display.max_columns', None):\n",
    "    display(df)"
   ]
  },
  {
   "cell_type": "code",
   "execution_count": null,
   "metadata": {
    "scrolled": false
   },
   "outputs": [],
   "source": [
    "df = pd.DataFrame(counts, columns=['TruePos', 'FalsePos', 'FalseNeg'])\n",
    "df.insert(0, 'IoU_Thresh', thresholds)\n",
    "df['Precision'] = precision\n",
    "df['Recall'] = recall\n",
    "df['F1'] = f1\n",
    "df.to_csv(EVAL_DIR + '/' + BASENAME + '_stats.csv', index=False)\n",
    "\n",
    "with pd.option_context('display.max_rows', None, 'display.max_columns', None):\n",
    "    display(df)"
   ]
  },
  {
   "cell_type": "code",
   "execution_count": null,
   "metadata": {},
   "outputs": [],
   "source": [
    "scores = {}\n",
    "for gt_id in GT_IDS:\n",
    "    gt_mask_images, gt_contour_image = load_roi(INDIVIDUAL_GT_DIR + '/' + gt_id, BASENAME, summary_image.shape)\n",
    "\n",
    "    plt.axis('off')\n",
    "    plt.imshow(summary_image, interpolation='bilinear', cmap='gray')\n",
    "    plt.imshow(create_contour_overlay(gt_contour_image, [0, 255, 255]), interpolation='bilinear')\n",
    "    plt.imshow(create_contour_overlay(eval_contour_image, [255, 255, 0]), interpolation='bilinear')\n",
    "    plt.title('Predicted (yellow) vs GT (cyan) by ' + gt_id)\n",
    "    plt.show()\n",
    "    \n",
    "    counts, _ = count_matches(eval_mask_images, gt_mask_images, thresholds)\n",
    "    f1, precision, recall = calc_f1_scores(counts)\n",
    "    scores[gt_id] = (f1, precision, recall)\n",
    "    \n",
    "    df = pd.DataFrame(counts, columns=['TruePos', 'FalsePos', 'FalseNeg'])\n",
    "    df.insert(0, 'IoU_Thresh', thresholds)\n",
    "    df['Precision'] = precision\n",
    "    df['Recall'] = recall\n",
    "    df['F1'] = f1\n",
    "    df.to_csv(EVAL_DIR + '/' + BASENAME + '_' + gt_id + '.csv', index=False)"
   ]
  },
  {
   "cell_type": "code",
   "execution_count": null,
   "metadata": {},
   "outputs": [],
   "source": [
    "def plot_scores(thresholds, scores, idx, title):\n",
    "    plt.axis('square')\n",
    "    plt.xlim(0, 1)\n",
    "    plt.ylim(0, 1)\n",
    "    for gt_id in GT_IDS:\n",
    "        plt.plot(thresholds, scores[gt_id][idx], label=gt_id)\n",
    "    plt.legend(loc='upper right')\n",
    "    plt.ylabel(title)\n",
    "    plt.xlabel('IoU Threshold')\n",
    "    plt.vlines(REPRESENTATIVE_IOU, 0, 1, colors='gray', linestyles='dashed') \n",
    "    plt.title(title)\n",
    "\n",
    "plt.figure(figsize=(17, 5))\n",
    "plt.suptitle('Accuracy Variance', fontsize=16)\n",
    "\n",
    "plt.subplot(1, 3, 1)\n",
    "plot_scores(thresholds, scores, 0, 'F1 Score')\n",
    "\n",
    "plt.subplot(1, 3, 2)\n",
    "plot_scores(thresholds, scores, 1, 'Precision')\n",
    "\n",
    "plt.subplot(1, 3, 3)\n",
    "plot_scores(thresholds, scores, 2, 'Recall')\n",
    "\n",
    "plt.show()"
   ]
  }
 ],
 "metadata": {
  "kernelspec": {
   "display_name": "Python 3",
   "language": "python",
   "name": "python3"
  },
  "language_info": {
   "codemirror_mode": {
    "name": "ipython",
    "version": 3
   },
   "file_extension": ".py",
   "mimetype": "text/x-python",
   "name": "python",
   "nbconvert_exporter": "python",
   "pygments_lexer": "ipython3",
   "version": "3.6.12"
  }
 },
 "nbformat": 4,
 "nbformat_minor": 4
}
