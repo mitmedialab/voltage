{
 "cells": [
  {
   "cell_type": "markdown",
   "id": "18d9848d",
   "metadata": {},
   "source": [
    "# Semi-automatic Blood Masking"
   ]
  },
  {
   "cell_type": "code",
   "execution_count": null,
   "id": "d6f35f4e",
   "metadata": {},
   "outputs": [],
   "source": [
    "import runpy\n",
    "import numpy as np\n",
    "import tifffile as tiff\n",
    "import matplotlib.pyplot as plt\n",
    "from pathlib import Path"
   ]
  },
  {
   "cell_type": "markdown",
   "id": "94d5deab",
   "metadata": {},
   "source": [
    "## Specify Dataset"
   ]
  },
  {
   "cell_type": "code",
   "execution_count": null,
   "id": "8257bb16",
   "metadata": {},
   "outputs": [],
   "source": [
    "paths = runpy.run_path('../../params/paths.py')\n",
    "INPUT_PATH = Path(paths['OUTPUT_BASE_PATH'], 'compare', 'invivo', 'voltage_HPC2')\n",
    "DATASET_NAME = '02_02'"
   ]
  },
  {
   "cell_type": "markdown",
   "id": "a98b1182",
   "metadata": {},
   "source": [
    "## Compute Per-pixel Temporal Fourier Transform"
   ]
  },
  {
   "cell_type": "code",
   "execution_count": null,
   "id": "c44f12de",
   "metadata": {
    "scrolled": false
   },
   "outputs": [],
   "source": [
    "input_file = Path(INPUT_PATH, DATASET_NAME, 'motion_corrected.tif')\n",
    "data = tiff.imread(input_file).astype(float)\n",
    "ft = np.absolute(np.fft.fft(data, axis=0))"
   ]
  },
  {
   "cell_type": "markdown",
   "id": "4216b9e3",
   "metadata": {},
   "source": [
    "### Plot Spectrum of Center Pixel"
   ]
  },
  {
   "cell_type": "code",
   "execution_count": null,
   "id": "fea1c503",
   "metadata": {},
   "outputs": [],
   "source": [
    "plt.figure()\n",
    "plt.plot(ft[:, ft.shape[1]//2, ft.shape[2]//2])\n",
    "plt.ylabel('Amplitude')\n",
    "plt.xlabel('Frequency')\n",
    "plt.show()"
   ]
  },
  {
   "cell_type": "markdown",
   "id": "d985ea51",
   "metadata": {},
   "source": [
    "## Compute Blood Image Candidates\n",
    "* Left: Sum of low frequency band\n",
    "* Center: Sum of high frequency band\n",
    "* Right: Difference of the two"
   ]
  },
  {
   "cell_type": "code",
   "execution_count": null,
   "id": "14470244",
   "metadata": {
    "scrolled": true
   },
   "outputs": [],
   "source": [
    "MIN_FREQ = 10\n",
    "MAX_FREQ = len(ft) // 2  # Nyquist\n",
    "FREQ_STEP = 10\n",
    "FREQ_END = 300 # examine up to this frequency\n",
    "for mid_freq in range(MIN_FREQ + FREQ_STEP, FREQ_END, FREQ_STEP):\n",
    "    print('[%d, %d] vs [%d, %d]' % (MIN_FREQ, mid_freq, mid_freq, MAX_FREQ))\n",
    "\n",
    "    low_band = np.sum(ft[MIN_FREQ:mid_freq], axis=0)\n",
    "    high_band = np.sum(ft[mid_freq:MAX_FREQ], axis=0)\n",
    "\n",
    "    low_band_norm = low_band / np.amax(low_band)\n",
    "    high_band_norm = high_band / np.amax(high_band)\n",
    "    blood_img = np.maximum(high_band_norm - low_band_norm, 0)\n",
    "\n",
    "    plt.figure(figsize=(17, 5))\n",
    "    plt.subplot(1, 3, 1)\n",
    "    plt.axis('off')\n",
    "    plt.imshow(low_band, cmap='gray')\n",
    "    plt.subplot(1, 3, 2)\n",
    "    plt.axis('off')\n",
    "    plt.imshow(high_band, cmap='gray')\n",
    "    plt.subplot(1, 3, 3)\n",
    "    plt.axis('off')\n",
    "    plt.imshow(blood_img, cmap='gray')\n",
    "    plt.show()"
   ]
  },
  {
   "cell_type": "markdown",
   "id": "2bdbec83",
   "metadata": {},
   "source": [
    "## Pick The Right One and Save The Mask"
   ]
  },
  {
   "cell_type": "code",
   "execution_count": null,
   "id": "06a43b30",
   "metadata": {},
   "outputs": [],
   "source": [
    "MID_FREQ = 200 # specify the number that yielded a good blood image above\n",
    "THRESHOLD = 0.08\n",
    "\n",
    "low_band = np.sum(ft[MIN_FREQ:MID_FREQ], axis=0)\n",
    "high_band = np.sum(ft[MID_FREQ:MAX_FREQ], axis=0)\n",
    "\n",
    "low_band_norm = low_band / np.amax(low_band)\n",
    "high_band_norm = high_band / np.amax(high_band)\n",
    "blood_img = np.maximum(high_band_norm - low_band_norm, 0)\n",
    "\n",
    "blood_mask = blood_img < THRESHOLD\n",
    "\n",
    "plt.figure(figsize=(11, 5))\n",
    "plt.subplot(1, 2, 1)\n",
    "plt.axis('off')\n",
    "plt.imshow(high_band_norm, cmap='gray')\n",
    "plt.subplot(1, 2, 2)\n",
    "plt.axis('off')\n",
    "plt.imshow(blood_mask, cmap='gray')\n",
    "plt.show()\n",
    "\n",
    "tiff.imwrite(input_file.with_name('bloodmask.tif'), blood_mask, photometric='minisblack')"
   ]
  }
 ],
 "metadata": {
  "kernelspec": {
   "display_name": "Python 3",
   "language": "python",
   "name": "python3"
  },
  "language_info": {
   "codemirror_mode": {
    "name": "ipython",
    "version": 3
   },
   "file_extension": ".py",
   "mimetype": "text/x-python",
   "name": "python",
   "nbconvert_exporter": "python",
   "pygments_lexer": "ipython3",
   "version": "3.8.11"
  }
 },
 "nbformat": 4,
 "nbformat_minor": 5
}
