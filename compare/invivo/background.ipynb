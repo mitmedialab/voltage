{
 "cells": [
  {
   "cell_type": "markdown",
   "id": "8b95afbd",
   "metadata": {},
   "source": [
    "# Background Mask\n",
    "Create a background mask for the invivo-imaging pipeline based on ground truth neuron masks."
   ]
  },
  {
   "cell_type": "code",
   "execution_count": null,
   "id": "87e28857",
   "metadata": {},
   "outputs": [],
   "source": [
    "import numpy as np\n",
    "import tifffile as tiff\n",
    "import matplotlib.pyplot as plt\n",
    "from pathlib import Path\n",
    "import sys\n",
    "sys.path.append(str(Path('../../evaluate').absolute()))\n",
    "from roi import read_roi"
   ]
  },
  {
   "cell_type": "markdown",
   "id": "aa48da83",
   "metadata": {},
   "source": [
    "## Specify Dataset and Neuron Masks"
   ]
  },
  {
   "cell_type": "code",
   "execution_count": null,
   "id": "14c0dd29",
   "metadata": {},
   "outputs": [],
   "source": [
    "INPUT_PATH = '/media/bandy/nvme_work/voltage/compare/invivo/lowmag/'\n",
    "GT_PATH = '/media/bandy/nvme_data/voltage/datasets_v0.5/lowmag_GT'\n",
    "DATASET_NAME = '02_02'"
   ]
  },
  {
   "cell_type": "code",
   "execution_count": null,
   "id": "677fbda3",
   "metadata": {},
   "outputs": [],
   "source": [
    "input_file = Path(INPUT_PATH, DATASET_NAME, 'Sn_image.tif')\n",
    "im = tiff.imread(input_file).astype(float).squeeze()\n",
    "\n",
    "gt_file = Path(GT_PATH, DATASET_NAME + '.tif')\n",
    "gt = read_roi(gt_file, (0,))\n",
    "mask = np.logical_or.reduce(gt)\n",
    "ofs_y = (mask.shape[0] - im.shape[0]) // 2\n",
    "ofs_x = (mask.shape[1] - im.shape[1]) // 2\n",
    "mask = mask[ofs_y:ofs_y + im.shape[0], ofs_x:ofs_x + im.shape[1]]\n",
    "\n",
    "plt.figure(figsize=(11, 5))\n",
    "plt.subplot(1, 2, 1)\n",
    "plt.axis('off')\n",
    "plt.imshow(im, cmap='gray')\n",
    "plt.subplot(1, 2, 2)\n",
    "plt.axis('off')\n",
    "plt.imshow(mask, cmap='gray')\n",
    "plt.show()"
   ]
  },
  {
   "cell_type": "markdown",
   "id": "c5c5929c",
   "metadata": {},
   "source": [
    "## Create Background Mask\n",
    "By dilating and inverting the neuron masks.\n",
    "Change the dilation radius and further modify the code as necessary. "
   ]
  },
  {
   "cell_type": "code",
   "execution_count": null,
   "id": "821a6f29",
   "metadata": {},
   "outputs": [],
   "source": [
    "from skimage.morphology import disk, binary_dilation\n",
    "radius = 10\n",
    "foreground = binary_dilation(mask, disk(radius, dtype=bool))\n",
    "background = ~foreground\n",
    "\n",
    "plt.figure(figsize=(11, 5))\n",
    "plt.subplot(1, 2, 1)\n",
    "plt.axis('off')\n",
    "plt.imshow(background, cmap='gray')\n",
    "plt.subplot(1, 2, 2)\n",
    "plt.axis('off')\n",
    "plt.imshow(np.multiply(im, background), cmap='gray')\n",
    "plt.show()\n",
    "\n",
    "tiff.imwrite(input_file.with_name('background.tif'), background, photometric='minisblack')"
   ]
  }
 ],
 "metadata": {
  "kernelspec": {
   "display_name": "Python 3",
   "language": "python",
   "name": "python3"
  },
  "language_info": {
   "codemirror_mode": {
    "name": "ipython",
    "version": 3
   },
   "file_extension": ".py",
   "mimetype": "text/x-python",
   "name": "python",
   "nbconvert_exporter": "python",
   "pygments_lexer": "ipython3",
   "version": "3.8.11"
  }
 },
 "nbformat": 4,
 "nbformat_minor": 5
}
